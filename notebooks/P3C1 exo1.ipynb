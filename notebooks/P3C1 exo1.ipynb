{
  "cells": [
    {
      "cell_type": "markdown",
      "metadata": {
        "id": "view-in-github",
        "colab_type": "text"
      },
      "source": [
        "<a href=\"https://colab.research.google.com/github/miganvini/Python_pour_economistes/blob/master/notebooks/P3C1%20exo1.ipynb\" target=\"_parent\"><img src=\"https://colab.research.google.com/assets/colab-badge.svg\" alt=\"Open In Colab\"/></a>"
      ]
    },
    {
      "cell_type": "markdown",
      "metadata": {
        "id": "XR-3VqKewCRO"
      },
      "source": [
        "![openclassrooms](https://s3.eu-west-1.amazonaws.com/course.oc-static.com/courses/6204541/1+HnqdJ-5ofxiPP9HIxdNdpw.jpeg)\n",
        "\n",
        "# Initiez-vous à Python pour l'analyse de données\n",
        "\n",
        "## Créez des tableaux pour stocker vos variables\n",
        "\n",
        "<br><br>\n",
        "\n",
        "**Une liste pour les gouverner tous**\n",
        "\n",
        "Déclarez une liste `couleurs` contenant 5 éléments : `rouge`, `jaune`, `orange`, `vert` et `bleu`."
      ]
    },
    {
      "cell_type": "code",
      "execution_count": 2,
      "metadata": {
        "id": "0OrpgouwwCRQ"
      },
      "outputs": [],
      "source": [
        "couleurs = [\"rouge\", \"jaune\", \"orange\", \"vert\", \"bleu\"]"
      ]
    },
    {
      "cell_type": "markdown",
      "metadata": {
        "id": "JQPvqQMdwCRR"
      },
      "source": [
        "Remplacez la couleur `vert` par `émeraude` :"
      ]
    },
    {
      "cell_type": "code",
      "execution_count": 8,
      "metadata": {
        "id": "8A1lQLl9wCRS"
      },
      "outputs": [],
      "source": [
        "couleurs[3] ='émeraude'"
      ]
    },
    {
      "cell_type": "markdown",
      "metadata": {
        "id": "5zphcRiZwCRS"
      },
      "source": [
        "Affichez le contenu de la liste :"
      ]
    },
    {
      "cell_type": "code",
      "execution_count": 9,
      "metadata": {
        "id": "ph0JwgZKwCRT",
        "outputId": "4d332260-25a7-4b0f-9520-8c82085abcbb",
        "colab": {
          "base_uri": "https://localhost:8080/"
        }
      },
      "outputs": [
        {
          "output_type": "stream",
          "name": "stdout",
          "text": [
            "rouge\n",
            "jaune\n",
            "orange\n",
            "émeraude\n",
            "bleu\n"
          ]
        }
      ],
      "source": [
        "for couleur in couleurs :\n",
        "    print(couleur)"
      ]
    }
  ],
  "metadata": {
    "kernelspec": {
      "display_name": "Python 3",
      "language": "python",
      "name": "python3"
    },
    "language_info": {
      "codemirror_mode": {
        "name": "ipython",
        "version": 3
      },
      "file_extension": ".py",
      "mimetype": "text/x-python",
      "name": "python",
      "nbconvert_exporter": "python",
      "pygments_lexer": "ipython3",
      "version": "3.8.5"
    },
    "colab": {
      "provenance": [],
      "include_colab_link": true
    }
  },
  "nbformat": 4,
  "nbformat_minor": 0
}